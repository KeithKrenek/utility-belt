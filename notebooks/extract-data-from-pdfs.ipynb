{
 "cells": [
  {
   "cell_type": "code",
   "execution_count": 4,
   "metadata": {},
   "outputs": [
    {
     "name": "stdout",
     "output_type": "stream",
     "text": [
      "C:\\Users\\keith\\Dropbox\\Embrace\\ccc_429078.pdf\n",
      "C:\\Users\\keith\\Dropbox\\Embrace\\ccc_429080.pdf\n",
      "C:\\Users\\keith\\Dropbox\\Embrace\\chewy_1524360381.pdf\n",
      "C:\\Users\\keith\\Dropbox\\Embrace\\chewy_1529967397.pdf\n",
      "C:\\Users\\keith\\Dropbox\\Embrace\\chewy_1530771607.pdf\n",
      "C:\\Users\\keith\\Dropbox\\Embrace\\chewy_1531541127.pdf\n",
      "C:\\Users\\keith\\Dropbox\\Embrace\\chewy_1536612634.pdf\n",
      "C:\\Users\\keith\\Dropbox\\Embrace\\chewy_1542282860.pdf\n",
      "C:\\Users\\keith\\Dropbox\\Embrace\\chewy_1548973566.pdf\n",
      "C:\\Users\\keith\\Dropbox\\Embrace\\chewy_1553301591.pdf\n",
      "C:\\Users\\keith\\Dropbox\\Embrace\\chewy_1555118251.pdf\n",
      "C:\\Users\\keith\\Dropbox\\Embrace\\jasper-poe-insulin-2024-07-10.png\n",
      "C:\\Users\\keith\\Dropbox\\Embrace\\ww_0016642904.pdf\n",
      "C:\\Users\\keith\\Dropbox\\Embrace\\ww_0016916045.pdf\n",
      "C:\\Users\\keith\\Dropbox\\Embrace\\ww_0017143357.pdf\n"
     ]
    }
   ],
   "source": [
    "import os\n",
    "import datetime\n",
    "\n",
    "def get_filtered_files(directory, cutoff_date, excluded_extensions):\n",
    "    \"\"\"\n",
    "    Get a list of files in the specified directory that are newer than the cutoff_date\n",
    "    and do not have an extension in excluded_extensions.\n",
    "\n",
    "    Args:\n",
    "    directory (str): The path to the directory to scan for files.\n",
    "    cutoff_date (datetime.datetime): The date to compare file modification times against.\n",
    "    excluded_extensions (list of str): The list of file extensions to exclude.\n",
    "\n",
    "    Returns:\n",
    "    list of str: The list of filtered file paths.\n",
    "    \"\"\"\n",
    "    filtered_files = []\n",
    "\n",
    "    for root, _, files in os.walk(directory):\n",
    "        for file in files:\n",
    "            file_path = os.path.join(root, file)\n",
    "            file_extension = os.path.splitext(file)[1].lower()\n",
    "            file_mod_time = datetime.datetime.fromtimestamp(os.path.getmtime(file_path))\n",
    "\n",
    "            if file_mod_time > cutoff_date and file_extension not in excluded_extensions:\n",
    "                filtered_files.append(file_path)\n",
    "\n",
    "    return filtered_files\n",
    "\n",
    "# Example usage\n",
    "directory_path = \"C:\\\\Users\\\\keith\\\\Dropbox\\\\Embrace\"\n",
    "cutoff_date = datetime.datetime(2024, 7, 11)  # Specify your cutoff date\n",
    "excluded_filetypes = ['.txt', '.log', '.xlsx']  # Specify file types to exclude\n",
    "\n",
    "filtered_files = get_filtered_files(directory_path, cutoff_date, excluded_filetypes)\n",
    "\n",
    "for file in filtered_files:\n",
    "    print(file)\n"
   ]
  },
  {
   "cell_type": "code",
   "execution_count": 5,
   "metadata": {},
   "outputs": [
    {
     "name": "stdout",
     "output_type": "stream",
     "text": [
      "C:\\Users\\keith\\Dropbox\\Embrace\\ccc_429078.pdf\n",
      "C:\\Users\\keith\\Dropbox\\Embrace\\ccc_429080.pdf\n",
      "C:\\Users\\keith\\Dropbox\\Embrace\\chewy_1524360381.pdf\n",
      "C:\\Users\\keith\\Dropbox\\Embrace\\chewy_1529967397.pdf\n",
      "C:\\Users\\keith\\Dropbox\\Embrace\\chewy_1530771607.pdf\n",
      "C:\\Users\\keith\\Dropbox\\Embrace\\chewy_1531541127.pdf\n",
      "C:\\Users\\keith\\Dropbox\\Embrace\\chewy_1536612634.pdf\n",
      "C:\\Users\\keith\\Dropbox\\Embrace\\chewy_1542282860.pdf\n",
      "C:\\Users\\keith\\Dropbox\\Embrace\\chewy_1548973566.pdf\n",
      "C:\\Users\\keith\\Dropbox\\Embrace\\chewy_1553301591.pdf\n",
      "C:\\Users\\keith\\Dropbox\\Embrace\\chewy_1555118251.pdf\n",
      "C:\\Users\\keith\\Dropbox\\Embrace\\ww_0016642904.pdf\n",
      "C:\\Users\\keith\\Dropbox\\Embrace\\ww_0016916045.pdf\n",
      "C:\\Users\\keith\\Dropbox\\Embrace\\ww_0017143357.pdf\n"
     ]
    }
   ],
   "source": [
    "filtered_files.remove(\"C:\\\\Users\\\\keith\\\\Dropbox\\\\Embrace\\\\jasper-poe-insulin-2024-07-10.png\")\n",
    "for file in filtered_files:\n",
    "    print(file)"
   ]
  },
  {
   "cell_type": "code",
   "execution_count": 3,
   "metadata": {
    "scrolled": true
   },
   "outputs": [
    {
     "name": "stdout",
     "output_type": "stream",
     "text": [
      "Requirement already satisfied: PyMuPDF in c:\\users\\keith\\appdata\\local\\packages\\pythonsoftwarefoundation.python.3.11_qbz5n2kfra8p0\\localcache\\local-packages\\python311\\site-packages (1.24.10)\n",
      "Requirement already satisfied: pytesseract in c:\\users\\keith\\appdata\\local\\packages\\pythonsoftwarefoundation.python.3.11_qbz5n2kfra8p0\\localcache\\local-packages\\python311\\site-packages (0.3.13)\n",
      "Requirement already satisfied: PyMuPDFb==1.24.10 in c:\\users\\keith\\appdata\\local\\packages\\pythonsoftwarefoundation.python.3.11_qbz5n2kfra8p0\\localcache\\local-packages\\python311\\site-packages (from PyMuPDF) (1.24.10)\n",
      "Requirement already satisfied: packaging>=21.3 in c:\\users\\keith\\appdata\\local\\packages\\pythonsoftwarefoundation.python.3.11_qbz5n2kfra8p0\\localcache\\local-packages\\python311\\site-packages (from pytesseract) (24.1)\n",
      "Requirement already satisfied: Pillow>=8.0.0 in c:\\users\\keith\\appdata\\local\\packages\\pythonsoftwarefoundation.python.3.11_qbz5n2kfra8p0\\localcache\\local-packages\\python311\\site-packages (from pytesseract) (10.4.0)\n",
      "Note: you may need to restart the kernel to use updated packages.\n"
     ]
    },
    {
     "name": "stderr",
     "output_type": "stream",
     "text": [
      "\n",
      "[notice] A new release of pip is available: 24.0 -> 24.2\n",
      "[notice] To update, run: python.exe -m pip install --upgrade pip\n"
     ]
    }
   ],
   "source": [
    "%pip install PyMuPDF pytesseract\n"
   ]
  },
  {
   "cell_type": "code",
   "execution_count": 4,
   "metadata": {},
   "outputs": [
    {
     "name": "stdout",
     "output_type": "stream",
     "text": [
      "C:\\Users\\keith\\Dropbox\\Embrace\\ccc_429078.pdf\n"
     ]
    }
   ],
   "source": [
    "print(filtered_files[0])"
   ]
  },
  {
   "cell_type": "code",
   "execution_count": 5,
   "metadata": {},
   "outputs": [
    {
     "name": "stdout",
     "output_type": "stream",
     "text": [
      "Requirement already satisfied: pdf2image in c:\\users\\keith\\appdata\\local\\packages\\pythonsoftwarefoundation.python.3.11_qbz5n2kfra8p0\\localcache\\local-packages\\python311\\site-packages (1.17.0)\n",
      "Requirement already satisfied: pillow in c:\\users\\keith\\appdata\\local\\packages\\pythonsoftwarefoundation.python.3.11_qbz5n2kfra8p0\\localcache\\local-packages\\python311\\site-packages (from pdf2image) (10.4.0)\n",
      "Note: you may need to restart the kernel to use updated packages.\n"
     ]
    },
    {
     "name": "stderr",
     "output_type": "stream",
     "text": [
      "\n",
      "[notice] A new release of pip is available: 24.0 -> 24.2\n",
      "[notice] To update, run: python.exe -m pip install --upgrade pip\n"
     ]
    }
   ],
   "source": [
    "%pip install pdf2image"
   ]
  },
  {
   "cell_type": "code",
   "execution_count": 6,
   "metadata": {
    "scrolled": true
   },
   "outputs": [
    {
     "name": "stdout",
     "output_type": "stream",
     "text": [
      "Requirement already satisfied: opencv-python in c:\\users\\keith\\appdata\\local\\packages\\pythonsoftwarefoundation.python.3.11_qbz5n2kfra8p0\\localcache\\local-packages\\python311\\site-packages (4.10.0.84)\n",
      "Requirement already satisfied: numpy>=1.21.2 in c:\\users\\keith\\appdata\\local\\packages\\pythonsoftwarefoundation.python.3.11_qbz5n2kfra8p0\\localcache\\local-packages\\python311\\site-packages (from opencv-python) (2.1.1)\n",
      "Note: you may need to restart the kernel to use updated packages.\n"
     ]
    },
    {
     "name": "stderr",
     "output_type": "stream",
     "text": [
      "\n",
      "[notice] A new release of pip is available: 24.0 -> 24.2\n",
      "[notice] To update, run: python.exe -m pip install --upgrade pip\n"
     ]
    }
   ],
   "source": [
    "%pip install opencv-python"
   ]
  },
  {
   "cell_type": "code",
   "execution_count": 6,
   "metadata": {},
   "outputs": [],
   "source": [
    "TESSDATA_PREFIX='C:/Program Files/Tesseract-OCR/tessdata'"
   ]
  },
  {
   "cell_type": "code",
   "execution_count": 11,
   "metadata": {},
   "outputs": [
    {
     "name": "stdout",
     "output_type": "stream",
     "text": [
      "(11,112)\n",
      "(11,112)\n",
      "(131,139)\n",
      "(131,139)\n",
      "(10,109)\n",
      "(237,272)\n",
      "(415,407)\n",
      "(507,487)\n",
      "(530,513)\n",
      "(482,564)\n",
      "(239,249)\n",
      "(411,359)\n",
      "(388,372)\n"
     ]
    },
    {
     "ename": "KeyboardInterrupt",
     "evalue": "",
     "output_type": "error",
     "traceback": [
      "\u001b[1;31m---------------------------------------------------------------------------\u001b[0m",
      "\u001b[1;31mKeyboardInterrupt\u001b[0m                         Traceback (most recent call last)",
      "Cell \u001b[1;32mIn[11], line 41\u001b[0m\n\u001b[0;32m     39\u001b[0m \u001b[38;5;66;03m# display the image\u001b[39;00m\n\u001b[0;32m     40\u001b[0m \u001b[38;5;28;01mwhile\u001b[39;00m \u001b[38;5;28;01mTrue\u001b[39;00m:\n\u001b[1;32m---> 41\u001b[0m     cv2\u001b[38;5;241m.\u001b[39mimshow(\u001b[38;5;124m'\u001b[39m\u001b[38;5;124mPoint Coordinates\u001b[39m\u001b[38;5;124m'\u001b[39m,np\u001b[38;5;241m.\u001b[39masarray(img))\n\u001b[0;32m     42\u001b[0m     k \u001b[38;5;241m=\u001b[39m cv2\u001b[38;5;241m.\u001b[39mwaitKey(\u001b[38;5;241m1\u001b[39m) \u001b[38;5;241m&\u001b[39m \u001b[38;5;241m0xFF\u001b[39m\n\u001b[0;32m     43\u001b[0m     \u001b[38;5;28;01mif\u001b[39;00m k \u001b[38;5;241m==\u001b[39m \u001b[38;5;241m27\u001b[39m:\n",
      "File \u001b[1;32m~\\AppData\\Local\\Packages\\PythonSoftwareFoundation.Python.3.11_qbz5n2kfra8p0\\LocalCache\\local-packages\\Python311\\site-packages\\PIL\\Image.py:742\u001b[0m, in \u001b[0;36mImage.__array_interface__\u001b[1;34m(self)\u001b[0m\n\u001b[0;32m    740\u001b[0m         new[\u001b[38;5;124m\"\u001b[39m\u001b[38;5;124mdata\u001b[39m\u001b[38;5;124m\"\u001b[39m] \u001b[38;5;241m=\u001b[39m \u001b[38;5;28mself\u001b[39m\u001b[38;5;241m.\u001b[39mtobytes(\u001b[38;5;124m\"\u001b[39m\u001b[38;5;124mraw\u001b[39m\u001b[38;5;124m\"\u001b[39m, \u001b[38;5;124m\"\u001b[39m\u001b[38;5;124mL\u001b[39m\u001b[38;5;124m\"\u001b[39m)\n\u001b[0;32m    741\u001b[0m     \u001b[38;5;28;01melse\u001b[39;00m:\n\u001b[1;32m--> 742\u001b[0m         new[\u001b[38;5;124m\"\u001b[39m\u001b[38;5;124mdata\u001b[39m\u001b[38;5;124m\"\u001b[39m] \u001b[38;5;241m=\u001b[39m \u001b[38;5;28;43mself\u001b[39;49m\u001b[38;5;241;43m.\u001b[39;49m\u001b[43mtobytes\u001b[49m\u001b[43m(\u001b[49m\u001b[43m)\u001b[49m\n\u001b[0;32m    743\u001b[0m \u001b[38;5;28;01mexcept\u001b[39;00m \u001b[38;5;167;01mException\u001b[39;00m \u001b[38;5;28;01mas\u001b[39;00m e:\n\u001b[0;32m    744\u001b[0m     \u001b[38;5;28;01mif\u001b[39;00m \u001b[38;5;129;01mnot\u001b[39;00m \u001b[38;5;28misinstance\u001b[39m(e, (\u001b[38;5;167;01mMemoryError\u001b[39;00m, \u001b[38;5;167;01mRecursionError\u001b[39;00m)):\n",
      "File \u001b[1;32m~\\AppData\\Local\\Packages\\PythonSoftwareFoundation.Python.3.11_qbz5n2kfra8p0\\LocalCache\\local-packages\\Python311\\site-packages\\PIL\\Image.py:823\u001b[0m, in \u001b[0;36mImage.tobytes\u001b[1;34m(self, encoder_name, *args)\u001b[0m\n\u001b[0;32m    820\u001b[0m     msg \u001b[38;5;241m=\u001b[39m \u001b[38;5;124mf\u001b[39m\u001b[38;5;124m\"\u001b[39m\u001b[38;5;124mencoder error \u001b[39m\u001b[38;5;132;01m{\u001b[39;00merrcode\u001b[38;5;132;01m}\u001b[39;00m\u001b[38;5;124m in tobytes\u001b[39m\u001b[38;5;124m\"\u001b[39m\n\u001b[0;32m    821\u001b[0m     \u001b[38;5;28;01mraise\u001b[39;00m \u001b[38;5;167;01mRuntimeError\u001b[39;00m(msg)\n\u001b[1;32m--> 823\u001b[0m \u001b[38;5;28;01mreturn\u001b[39;00m \u001b[38;5;124mb\u001b[39m\u001b[38;5;124m\"\u001b[39m\u001b[38;5;124m\"\u001b[39m\u001b[38;5;241m.\u001b[39mjoin(output)\n",
      "\u001b[1;31mKeyboardInterrupt\u001b[0m: "
     ]
    },
    {
     "ename": "",
     "evalue": "",
     "output_type": "error",
     "traceback": [
      "\u001b[1;31mThe Kernel crashed while executing code in the current cell or a previous cell. \n",
      "\u001b[1;31mPlease review the code in the cell(s) to identify a possible cause of the failure. \n",
      "\u001b[1;31mClick <a href='https://aka.ms/vscodeJupyterKernelCrash'>here</a> for more info. \n",
      "\u001b[1;31mView Jupyter <a href='command:jupyter.viewOutput'>log</a> for further details."
     ]
    }
   ],
   "source": [
    "# import the required library\n",
    "import cv2\n",
    "from PIL import Image\n",
    "import fitz \n",
    "import numpy as np\n",
    "\n",
    "# define a function to display the coordinates of\n",
    "\n",
    "# of the points clicked on the image\n",
    "def click_event(event, x, y, flags, params):\n",
    "    if event == cv2.EVENT_LBUTTONDOWN:\n",
    "        print(f'({x},{y})')\n",
    "      \n",
    "    # put coordinates as text on the image\n",
    "#     cv2.putText(img, f'({x},{y})',(x,y),\n",
    "#     cv2.FONT_HERSHEY_SIMPLEX, 1, (0, 0, 255), 2)\n",
    "      \n",
    "#     # draw point on the image\n",
    "#     cv2.circle(img, (x,y), 3, (0,255,255), -1)\n",
    "\n",
    "# read the input image\n",
    "# img = cv2.imread('back2school.jpg')\n",
    "page_num = 0\n",
    "pdf_path = 'C:/Users/keith/Dropbox/Embrace/chewy_1524360381.pdf'\n",
    "# pdf_path = 'C:/Users/keith/Dropbox/Embrace/ccc_429078.pdf'\n",
    "# pdf_path = 'C:/Users/keith/Dropbox/Embrace/ww_0016642904.pdf'\n",
    "document = fitz.open(pdf_path)\n",
    "page = document[page_num]\n",
    "pix = page.get_pixmap()\n",
    "image = Image.frombuffer(\"RGB\", [pix.width, pix.height], pix.samples, \"raw\", \"RGB\", 0, 1)\n",
    "img = image\n",
    "\n",
    "# create a window\n",
    "cv2.namedWindow('Point Coordinates')\n",
    "\n",
    "# bind the callback function to window\n",
    "cv2.setMouseCallback('Point Coordinates', click_event)\n",
    "\n",
    "# display the image\n",
    "while True:\n",
    "    cv2.imshow('Point Coordinates',np.asarray(img))\n",
    "    k = cv2.waitKey(1) & 0xFF\n",
    "    if k == 27:\n",
    "        break\n",
    "        \n",
    "cv2.destroyAllWindows()"
   ]
  },
  {
   "cell_type": "code",
   "execution_count": 2,
   "metadata": {},
   "outputs": [
    {
     "name": "stdout",
     "output_type": "stream",
     "text": [
      "<class 'PIL.Image.Image'>\n",
      "(612, 792)\n",
      "<class 'tuple'>\n"
     ]
    }
   ],
   "source": [
    "import cv2\n",
    "from PIL import Image\n",
    "import fitz \n",
    "page_num = 0\n",
    "pdf_path = 'C:/Users/keith/Dropbox/Embrace/chewy_1411848544.pdf'\n",
    "document = fitz.open(pdf_path)\n",
    "page = document[page_num]\n",
    "pix = page.get_pixmap()\n",
    "image = Image.frombuffer(\"RGB\", [pix.width, pix.height], pix.samples, \"raw\", \"RGB\", 0, 1)\n",
    "img = image\n",
    "print(type(img))\n",
    "print(img.size)\n",
    "print(type(img.size))"
   ]
  },
  {
   "cell_type": "code",
   "execution_count": 9,
   "metadata": {
    "scrolled": true
   },
   "outputs": [
    {
     "data": {
      "text/html": [
       "<div>\n",
       "<style scoped>\n",
       "    .dataframe tbody tr th:only-of-type {\n",
       "        vertical-align: middle;\n",
       "    }\n",
       "\n",
       "    .dataframe tbody tr th {\n",
       "        vertical-align: top;\n",
       "    }\n",
       "\n",
       "    .dataframe thead th {\n",
       "        text-align: right;\n",
       "    }\n",
       "</style>\n",
       "<table border=\"1\" class=\"dataframe\">\n",
       "  <thead>\n",
       "    <tr style=\"text-align: right;\">\n",
       "      <th></th>\n",
       "      <th>File</th>\n",
       "      <th>Date</th>\n",
       "      <th>Pet</th>\n",
       "      <th>Total</th>\n",
       "    </tr>\n",
       "  </thead>\n",
       "  <tbody>\n",
       "    <tr>\n",
       "      <th>0</th>\n",
       "      <td>dummy</td>\n",
       "      <td>dummy</td>\n",
       "      <td>dummy</td>\n",
       "      <td>dummy</td>\n",
       "    </tr>\n",
       "    <tr>\n",
       "      <th>1</th>\n",
       "      <td>dummy</td>\n",
       "      <td>dummy</td>\n",
       "      <td>dummy</td>\n",
       "      <td>dummy</td>\n",
       "    </tr>\n",
       "    <tr>\n",
       "      <th>2</th>\n",
       "      <td>C:\\Users\\keith\\Dropbox\\Embrace\\ccc_429078.pdf</td>\n",
       "      <td>09-10-2024\\n\\nmae tra</td>\n",
       "      <td>Handsome</td>\n",
       "      <td>220.4\\n\\noS a Se</td>\n",
       "    </tr>\n",
       "    <tr>\n",
       "      <th>3</th>\n",
       "      <td>C:\\Users\\keith\\Dropbox\\Embrace\\ccc_429080.pdf</td>\n",
       "      <td>09-10-2024\\n\\nmae tra</td>\n",
       "      <td>Handsome</td>\n",
       "      <td>.\\n\\noS a Se</td>\n",
       "    </tr>\n",
       "    <tr>\n",
       "      <th>4</th>\n",
       "      <td>C:\\Users\\keith\\Dropbox\\Embrace\\chewy_152436038...</td>\n",
       "      <td></td>\n",
       "      <td>Perervoe, Vat</td>\n",
       "      <td>$S28E</td>\n",
       "    </tr>\n",
       "    <tr>\n",
       "      <th>5</th>\n",
       "      <td>C:\\Users\\keith\\Dropbox\\Embrace\\chewy_152996739...</td>\n",
       "      <td></td>\n",
       "      <td>SOME, Call</td>\n",
       "      <td>$35.</td>\n",
       "    </tr>\n",
       "    <tr>\n",
       "      <th>6</th>\n",
       "      <td>C:\\Users\\keith\\Dropbox\\Embrace\\chewy_153077160...</td>\n",
       "      <td></td>\n",
       "      <td>Perervoe, Vat</td>\n",
       "      <td>$S28E</td>\n",
       "    </tr>\n",
       "    <tr>\n",
       "      <th>7</th>\n",
       "      <td>C:\\Users\\keith\\Dropbox\\Embrace\\chewy_153154112...</td>\n",
       "      <td></td>\n",
       "      <td>Perervoe, Vat</td>\n",
       "      <td>$65.€</td>\n",
       "    </tr>\n",
       "    <tr>\n",
       "      <th>8</th>\n",
       "      <td>C:\\Users\\keith\\Dropbox\\Embrace\\chewy_153661263...</td>\n",
       "      <td></td>\n",
       "      <td>Perervoe, Vat</td>\n",
       "      <td>$S28E</td>\n",
       "    </tr>\n",
       "    <tr>\n",
       "      <th>9</th>\n",
       "      <td>C:\\Users\\keith\\Dropbox\\Embrace\\chewy_154228286...</td>\n",
       "      <td></td>\n",
       "      <td>SOME, Call</td>\n",
       "      <td>$63.</td>\n",
       "    </tr>\n",
       "    <tr>\n",
       "      <th>10</th>\n",
       "      <td>C:\\Users\\keith\\Dropbox\\Embrace\\chewy_154897356...</td>\n",
       "      <td></td>\n",
       "      <td>Perervoe, Vat</td>\n",
       "      <td>$S28E</td>\n",
       "    </tr>\n",
       "    <tr>\n",
       "      <th>11</th>\n",
       "      <td>C:\\Users\\keith\\Dropbox\\Embrace\\chewy_155330159...</td>\n",
       "      <td></td>\n",
       "      <td>SOME, Call</td>\n",
       "      <td>$63.</td>\n",
       "    </tr>\n",
       "    <tr>\n",
       "      <th>12</th>\n",
       "      <td>C:\\Users\\keith\\Dropbox\\Embrace\\chewy_155511825...</td>\n",
       "      <td></td>\n",
       "      <td>Perervoe, Vat</td>\n",
       "      <td>$S28E</td>\n",
       "    </tr>\n",
       "    <tr>\n",
       "      <th>13</th>\n",
       "      <td>C:\\Users\\keith\\Dropbox\\Embrace\\ww_0016642904.pdf</td>\n",
       "      <td>6/20/2024</td>\n",
       "      <td>Chiorambucil Tablet 15 Tablet Prescribed To: K...</td>\n",
       "      <td>Freight: $15.95</td>\n",
       "    </tr>\n",
       "    <tr>\n",
       "      <th>14</th>\n",
       "      <td>C:\\Users\\keith\\Dropbox\\Embrace\\ww_0016916045.pdf</td>\n",
       "      <td>8/5/2024</td>\n",
       "      <td>Gabapentin OralSuspension 50 ml Prescribed To:...</td>\n",
       "      <td>teyvoice Total: £79.17</td>\n",
       "    </tr>\n",
       "    <tr>\n",
       "      <th>15</th>\n",
       "      <td>C:\\Users\\keith\\Dropbox\\Embrace\\ww_0017143357.pdf</td>\n",
       "      <td>9/8/2024</td>\n",
       "      <td>Chiorambucil Tablet 15 Tablet Prescribed To: K...</td>\n",
       "      <td>Freight: $14.05</td>\n",
       "    </tr>\n",
       "  </tbody>\n",
       "</table>\n",
       "</div>"
      ],
      "text/plain": [
       "                                                 File                   Date  \\\n",
       "0                                               dummy                  dummy   \n",
       "1                                               dummy                  dummy   \n",
       "2       C:\\Users\\keith\\Dropbox\\Embrace\\ccc_429078.pdf  09-10-2024\\n\\nmae tra   \n",
       "3       C:\\Users\\keith\\Dropbox\\Embrace\\ccc_429080.pdf  09-10-2024\\n\\nmae tra   \n",
       "4   C:\\Users\\keith\\Dropbox\\Embrace\\chewy_152436038...                          \n",
       "5   C:\\Users\\keith\\Dropbox\\Embrace\\chewy_152996739...                          \n",
       "6   C:\\Users\\keith\\Dropbox\\Embrace\\chewy_153077160...                          \n",
       "7   C:\\Users\\keith\\Dropbox\\Embrace\\chewy_153154112...                          \n",
       "8   C:\\Users\\keith\\Dropbox\\Embrace\\chewy_153661263...                          \n",
       "9   C:\\Users\\keith\\Dropbox\\Embrace\\chewy_154228286...                          \n",
       "10  C:\\Users\\keith\\Dropbox\\Embrace\\chewy_154897356...                          \n",
       "11  C:\\Users\\keith\\Dropbox\\Embrace\\chewy_155330159...                          \n",
       "12  C:\\Users\\keith\\Dropbox\\Embrace\\chewy_155511825...                          \n",
       "13   C:\\Users\\keith\\Dropbox\\Embrace\\ww_0016642904.pdf              6/20/2024   \n",
       "14   C:\\Users\\keith\\Dropbox\\Embrace\\ww_0016916045.pdf               8/5/2024   \n",
       "15   C:\\Users\\keith\\Dropbox\\Embrace\\ww_0017143357.pdf               9/8/2024   \n",
       "\n",
       "                                                  Pet                   Total  \n",
       "0                                               dummy                   dummy  \n",
       "1                                               dummy                   dummy  \n",
       "2                                            Handsome        220.4\\n\\noS a Se  \n",
       "3                                            Handsome            .\\n\\noS a Se  \n",
       "4                                       Perervoe, Vat                   $S28E  \n",
       "5                                          SOME, Call                    $35.  \n",
       "6                                       Perervoe, Vat                   $S28E  \n",
       "7                                       Perervoe, Vat                   $65.€  \n",
       "8                                       Perervoe, Vat                   $S28E  \n",
       "9                                          SOME, Call                    $63.  \n",
       "10                                      Perervoe, Vat                   $S28E  \n",
       "11                                         SOME, Call                    $63.  \n",
       "12                                      Perervoe, Vat                   $S28E  \n",
       "13  Chiorambucil Tablet 15 Tablet Prescribed To: K...         Freight: $15.95  \n",
       "14  Gabapentin OralSuspension 50 ml Prescribed To:...  teyvoice Total: £79.17  \n",
       "15  Chiorambucil Tablet 15 Tablet Prescribed To: K...         Freight: $14.05  "
      ]
     },
     "metadata": {},
     "output_type": "display_data"
    }
   ],
   "source": [
    "from PIL import Image\n",
    "from PIL import ImageFilter\n",
    "from PIL import ImageEnhance\n",
    "import fitz \n",
    "import pytesseract\n",
    "import cv2\n",
    "import numpy as np                                    \n",
    "import pandas as pd\n",
    "\n",
    "pytesseract.pytesseract.tesseract_cmd = r'C:\\Program Files\\Tesseract-OCR\\tesseract.exe'  # Update the path as needed\n",
    "\n",
    "chy = [[97, 133, 97+55, 133+10], \n",
    "       [217, 324, 217+100, 324+20], \n",
    "       [507, 487, 507+60, 487+15]]\n",
    "\n",
    "ccc = [[472, 151, 472+55, 151+15], \n",
    "       [471, 184, 471+75, 184+15], \n",
    "       [519, 626, 519+60, 626+15]]\n",
    "\n",
    "wwp = [[459, 158, 459+65, 158+20], \n",
    "       [32, 347, 32+350, 347+20], \n",
    "       [494, 416, 494+100, 416+20]]\n",
    "    \n",
    "page_num = 0\n",
    "\n",
    "col_names = [\"File\", \"Date\", \"Pet\", \"Total\"]\n",
    "\n",
    "temp = {col_names[0]:[\"dummy\",\"dummy\"],\n",
    "       col_names[1]:[\"dummy\",\"dummy\"],\n",
    "       col_names[2]:[\"dummy\",\"dummy\"],\n",
    "       col_names[3]:[\"dummy\",\"dummy\"]}\n",
    "ocr_txt = temp\n",
    "\n",
    "df = pd.DataFrame(temp)\n",
    "\n",
    "for file in filtered_files:\n",
    "    # Simple image to string\n",
    "    # print(pytesseract.image_to_string(Image.open('C:/Users/keith/Dropbox/Insurance/KKrenek_BCBSofMA_Front.png')))\n",
    "    \n",
    "    pdf_path = file\n",
    "    ocr_txt['File'] = pdf_path\n",
    "\n",
    "    document = fitz.open(pdf_path)\n",
    "    page = document[page_num]\n",
    "    pix = page.get_pixmap()\n",
    "    image = Image.frombuffer(\"RGB\", [pix.width, pix.height], pix.samples, \"raw\", \"RGB\", 0, 1)\n",
    "\n",
    "    if \"chewy\" in pdf_path:\n",
    "        crop_rect = chy\n",
    "    elif \"cc\" in pdf_path:\n",
    "        crop_rect = ccc\n",
    "    elif \"ww\" in pdf_path:\n",
    "        crop_rect = wwp\n",
    "    else:\n",
    "        crop_rect = []\n",
    "\n",
    "    upsize = 5\n",
    "    threshold = 200\n",
    "\n",
    "\n",
    "    for idk in range(0,3):\n",
    "\n",
    "        img_crop = image.crop(crop_rect[idk][:])\n",
    "\n",
    "        img = img_crop\n",
    "        img = img.resize((upsize*img.size[0], upsize*img.size[1]))\n",
    "    #     display(img)\n",
    "        img = img.filter(ImageFilter.EDGE_ENHANCE_MORE)\n",
    "    #     img_rsz_filt = ImageEnhance.Sharpness(img_rsz)\n",
    "    #     img_rsz_filt.enhance(50).show()\n",
    "    #     display(img)\n",
    "        img = img.point( lambda p: 255 if p > threshold else 0 )\n",
    "    #     display(img)\n",
    "    #     print(img_crop.size)\n",
    "    #     norm_img = np.zeros((img_crop.size[0], img_crop.size[1]))\n",
    "    #     img = cv2.normalize(np.asarray(img_crop), norm_img, 0, 255, cv2.NORM_MINMAX)\n",
    "    #     ret, otsu = cv2.threshold(np.asarray(img_crop),0,255,cv2.THRESH_BINARY+cv2.THRESH_OTSU)\n",
    "    #     display(ret)\n",
    "    #     img = cv2.threshold(np.asarray(img), 127, 255, cv2.THRESH_BINARY)\n",
    "\n",
    "\n",
    "    #     display(img)\n",
    "\n",
    "        txt = pytesseract.image_to_string(img)\n",
    "        txt = txt.rstrip(\"\\n\")\n",
    "#         print((txt))\n",
    "        ocr_txt[col_names[idk+1]] = txt\n",
    "\n",
    "    # print(type(image))\n",
    "    # display(image)\n",
    "    # image.show()\n",
    "\n",
    "    # print(pytesseract.image_to_string(image))\n",
    "\n",
    "    # print(len(crop_rect))\n",
    "\n",
    "    df = df._append(ocr_txt, ignore_index = True)\n",
    "\n",
    "display(df)"
   ]
  },
  {
   "cell_type": "code",
   "execution_count": 9,
   "metadata": {},
   "outputs": [
    {
     "name": "stdout",
     "output_type": "stream",
     "text": [
      "[472, 151, 527, 166]\n"
     ]
    }
   ],
   "source": [
    "print(crop_rect[0][:])"
   ]
  },
  {
   "cell_type": "code",
   "execution_count": 10,
   "metadata": {},
   "outputs": [
    {
     "ename": "RuntimeError",
     "evalue": "No OCR support: TESSDATA_PREFIX not set",
     "output_type": "error",
     "traceback": [
      "\u001b[1;31m---------------------------------------------------------------------------\u001b[0m",
      "\u001b[1;31mRuntimeError\u001b[0m                              Traceback (most recent call last)",
      "Cell \u001b[1;32mIn[10], line 64\u001b[0m\n\u001b[0;32m     58\u001b[0m     pdf_list \u001b[38;5;241m=\u001b[39m filtered_files[:\u001b[38;5;241m1\u001b[39m]\n\u001b[0;32m     59\u001b[0m \u001b[38;5;66;03m#     pdf_list = [\u001b[39;00m\n\u001b[0;32m     60\u001b[0m \u001b[38;5;66;03m#         'path/to/your/pdf1.pdf',\u001b[39;00m\n\u001b[0;32m     61\u001b[0m \u001b[38;5;66;03m#         'path/to/your/pdf2.pdf',\u001b[39;00m\n\u001b[0;32m     62\u001b[0m \u001b[38;5;66;03m#         # Add more PDFs as needed\u001b[39;00m\n\u001b[0;32m     63\u001b[0m \u001b[38;5;66;03m#     ]\u001b[39;00m\n\u001b[1;32m---> 64\u001b[0m     \u001b[43mmain\u001b[49m\u001b[43m(\u001b[49m\u001b[43mpdf_list\u001b[49m\u001b[43m)\u001b[49m\n",
      "Cell \u001b[1;32mIn[10], line 53\u001b[0m, in \u001b[0;36mmain\u001b[1;34m(pdf_list)\u001b[0m\n\u001b[0;32m     51\u001b[0m \u001b[38;5;28;01mdef\u001b[39;00m \u001b[38;5;21mmain\u001b[39m(pdf_list):\n\u001b[0;32m     52\u001b[0m     \u001b[38;5;28;01mfor\u001b[39;00m pdf \u001b[38;5;129;01min\u001b[39;00m pdf_list:\n\u001b[1;32m---> 53\u001b[0m         info \u001b[38;5;241m=\u001b[39m \u001b[43mprocess_pdf\u001b[49m\u001b[43m(\u001b[49m\u001b[43mpdf\u001b[49m\u001b[43m)\u001b[49m\n\u001b[0;32m     54\u001b[0m         \u001b[38;5;28mprint\u001b[39m(\u001b[38;5;124mf\u001b[39m\u001b[38;5;124m\"\u001b[39m\u001b[38;5;124mInformation extracted from \u001b[39m\u001b[38;5;132;01m{\u001b[39;00mpdf\u001b[38;5;132;01m}\u001b[39;00m\u001b[38;5;124m: \u001b[39m\u001b[38;5;132;01m{\u001b[39;00minfo\u001b[38;5;132;01m}\u001b[39;00m\u001b[38;5;124m\"\u001b[39m)\n",
      "Cell \u001b[1;32mIn[10], line 30\u001b[0m, in \u001b[0;36mprocess_pdf\u001b[1;34m(pdf_path)\u001b[0m\n\u001b[0;32m     27\u001b[0m         page \u001b[38;5;241m=\u001b[39m document[page_num]\n\u001b[0;32m     28\u001b[0m \u001b[38;5;66;03m#         page = document.load_page(page_num)\u001b[39;00m\n\u001b[0;32m     29\u001b[0m         \u001b[38;5;66;03m# make the TextPage object. It does all the OCR.\u001b[39;00m\n\u001b[1;32m---> 30\u001b[0m         full_tp \u001b[38;5;241m=\u001b[39m \u001b[43mpage\u001b[49m\u001b[38;5;241;43m.\u001b[39;49m\u001b[43mget_textpage_ocr\u001b[49m\u001b[43m(\u001b[49m\u001b[43mflags\u001b[49m\u001b[38;5;241;43m=\u001b[39;49m\u001b[38;5;241;43m0\u001b[39;49m\u001b[43m,\u001b[49m\u001b[43m \u001b[49m\u001b[43mfull\u001b[49m\u001b[38;5;241;43m=\u001b[39;49m\u001b[38;5;28;43;01mTrue\u001b[39;49;00m\u001b[43m)\u001b[49m\n\u001b[0;32m     31\u001b[0m         \u001b[38;5;28mprint\u001b[39m(page\u001b[38;5;241m.\u001b[39mget_text(textpage\u001b[38;5;241m=\u001b[39mfull_tp))\n\u001b[0;32m     32\u001b[0m \u001b[38;5;66;03m#         image_list = page.get_images(full=True)\u001b[39;00m\n\u001b[0;32m     33\u001b[0m \u001b[38;5;66;03m#         image_list = convert_from_path(pdf_path) \u001b[39;00m\n\u001b[0;32m     34\u001b[0m \u001b[38;5;66;03m#         image = page.get_pixmap()\u001b[39;00m\n\u001b[1;32m   (...)\u001b[0m\n\u001b[0;32m     42\u001b[0m \u001b[38;5;66;03m#             image_bytes = base_image[\"image\"]\u001b[39;00m\n\u001b[0;32m     43\u001b[0m \u001b[38;5;66;03m#             image = Image.open(io.BytesIO(image_bytes))\u001b[39;00m\n",
      "File \u001b[1;32m~\\AppData\\Local\\Packages\\PythonSoftwareFoundation.Python.3.11_qbz5n2kfra8p0\\LocalCache\\local-packages\\Python311\\site-packages\\pymupdf\\utils.py:591\u001b[0m, in \u001b[0;36mget_textpage_ocr\u001b[1;34m(page, flags, language, dpi, full, tessdata)\u001b[0m\n\u001b[0;32m    589\u001b[0m pymupdf\u001b[38;5;241m.\u001b[39mCheckParent(page)\n\u001b[0;32m    590\u001b[0m \u001b[38;5;28;01mif\u001b[39;00m \u001b[38;5;129;01mnot\u001b[39;00m TESSDATA_PREFIX \u001b[38;5;129;01mand\u001b[39;00m \u001b[38;5;129;01mnot\u001b[39;00m tessdata:\n\u001b[1;32m--> 591\u001b[0m     \u001b[38;5;28;01mraise\u001b[39;00m \u001b[38;5;167;01mRuntimeError\u001b[39;00m(\u001b[38;5;124m\"\u001b[39m\u001b[38;5;124mNo OCR support: TESSDATA_PREFIX not set\u001b[39m\u001b[38;5;124m\"\u001b[39m)\n\u001b[0;32m    593\u001b[0m \u001b[38;5;28;01mdef\u001b[39;00m \u001b[38;5;21mfull_ocr\u001b[39m(page, dpi, language, flags):\n\u001b[0;32m    594\u001b[0m     zoom \u001b[38;5;241m=\u001b[39m dpi \u001b[38;5;241m/\u001b[39m \u001b[38;5;241m72\u001b[39m\n",
      "\u001b[1;31mRuntimeError\u001b[0m: No OCR support: TESSDATA_PREFIX not set"
     ]
    }
   ],
   "source": [
    "import fitz  # PyMuPDF\n",
    "import pytesseract\n",
    "from PIL import Image\n",
    "import io\n",
    "from pdf2image import convert_from_path \n",
    "\n",
    "def extract_text_from_image(image):\n",
    "    \"\"\"Extract text from a PIL image using pytesseract.\"\"\"\n",
    "    text = pytesseract.image_to_string(image)\n",
    "    return text\n",
    "\n",
    "def extract_information(text):\n",
    "    \"\"\"Extract specific information from the text. Modify this function based on your needs.\"\"\"\n",
    "    # Example: Extract email addresses and phone numbers\n",
    "    import re\n",
    "    emails = re.findall(r'\\b[A-Za-z0-9._%+-]+@[A-Za-z0-9.-]+\\.[A-Z|a-z]{2,}\\b', text)\n",
    "    phone_numbers = re.findall(r'\\b\\d{3}[-.\\s]??\\d{3}[-.\\s]??\\d{4}\\b', text)\n",
    "    \n",
    "    return {'emails': emails, 'phone_numbers': phone_numbers}\n",
    "\n",
    "def process_pdf(pdf_path):\n",
    "    \"\"\"Process a single PDF to extract text from images and then extract specific information.\"\"\"\n",
    "    document = fitz.open(pdf_path)\n",
    "    all_info = []\n",
    "\n",
    "    for page_num in range(len(document)):\n",
    "        page = document[page_num]\n",
    "#         page = document.load_page(page_num)\n",
    "        # make the TextPage object. It does all the OCR.\n",
    "        full_tp = page.get_textpage_ocr(flags=0, full=True)\n",
    "        print(page.get_text(textpage=full_tp))\n",
    "#         image_list = page.get_images(full=True)\n",
    "#         image_list = convert_from_path(pdf_path) \n",
    "#         image = page.get_pixmap()\n",
    "#         image = image.getImageData(\"png\")\n",
    "#         image = image.tobytes(output='png', jpg_quality=95)\n",
    "#         print(type(image))\n",
    "        \n",
    "#         for img_index, img in enumerate(image_list):\n",
    "#             xref = img[0]\n",
    "#             base_image = document.extract_image(xref)\n",
    "#             image_bytes = base_image[\"image\"]\n",
    "#             image = Image.open(io.BytesIO(image_bytes))\n",
    "            \n",
    "        text = extract_text_from_image(image)\n",
    "        info = extract_information(text)\n",
    "        all_info.append(info)\n",
    "    \n",
    "    return all_info\n",
    "\n",
    "def main(pdf_list):\n",
    "    for pdf in pdf_list:\n",
    "        info = process_pdf(pdf)\n",
    "        print(f\"Information extracted from {pdf}: {info}\")\n",
    "\n",
    "if __name__ == \"__main__\":\n",
    "    # List of PDF files to process\n",
    "    pdf_list = filtered_files[:1]\n",
    "#     pdf_list = [\n",
    "#         'path/to/your/pdf1.pdf',\n",
    "#         'path/to/your/pdf2.pdf',\n",
    "#         # Add more PDFs as needed\n",
    "#     ]\n",
    "    main(pdf_list)\n"
   ]
  },
  {
   "cell_type": "code",
   "execution_count": null,
   "metadata": {},
   "outputs": [],
   "source": []
  }
 ],
 "metadata": {
  "kernelspec": {
   "display_name": "Python 3",
   "language": "python",
   "name": "python3"
  },
  "language_info": {
   "codemirror_mode": {
    "name": "ipython",
    "version": 3
   },
   "file_extension": ".py",
   "mimetype": "text/x-python",
   "name": "python",
   "nbconvert_exporter": "python",
   "pygments_lexer": "ipython3",
   "version": "3.12.1"
  }
 },
 "nbformat": 4,
 "nbformat_minor": 2
}
